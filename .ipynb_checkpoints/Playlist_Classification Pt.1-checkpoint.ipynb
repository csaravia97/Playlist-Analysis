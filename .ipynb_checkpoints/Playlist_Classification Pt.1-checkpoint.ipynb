{
 "cells": [
  {
   "cell_type": "code",
   "execution_count": 2,
   "metadata": {},
   "outputs": [],
   "source": [
    "import Playlist_Class as PC\n",
    "import pandas as pd\n",
    "import matplotlib.pyplot as plt\n",
    "from sklearn.model_selection import StratifiedShuffleSplit"
   ]
  },
  {
   "cell_type": "markdown",
   "metadata": {},
   "source": [
    "# Goal\n",
    "#### My goal is to use the data from tracks of different playlist types to identify traits that can be used to classify them, and then develop a Machine Learning model to classify tracks based on their features."
   ]
  },
  {
   "cell_type": "code",
   "execution_count": 3,
   "metadata": {},
   "outputs": [
    {
     "name": "stdout",
     "output_type": "stream",
     "text": [
      "BARK BARK BARK >:(\n",
      "BARK BARK BARK >:(\n"
     ]
    }
   ],
   "source": [
    "focus_playlists = PC.SpotifyPlaylist('focus', 'US', 25).tracks\n",
    "workout_playlists = PC.SpotifyPlaylist('workout', 'US', 25).tracks\n",
    "sleep_playlists = PC.SpotifyPlaylist('mood', 'US', 25).tracks\n",
    "party_playlists = PC.SpotifyPlaylist('party', 'US', 25).tracks"
   ]
  },
  {
   "cell_type": "markdown",
   "metadata": {},
   "source": [
    "Before concatenating all of our playlists into one big dataframe, we have to make sure that we label each song with its corresponding playlist. These categories will be our target column for classification"
   ]
  },
  {
   "cell_type": "code",
   "execution_count": 4,
   "metadata": {},
   "outputs": [],
   "source": [
    "focus_playlists['playlist_type'] = ['focus']*len(focus_playlists)\n",
    "workout_playlists['playlist_type'] = ['workout']*len(workout_playlists)\n",
    "sleep_playlists['playlist_type'] = ['sleep']*len(sleep_playlists)\n",
    "party_playlists['playlist_type'] = ['party']*len(party_playlists)"
   ]
  },
  {
   "cell_type": "code",
   "execution_count": 5,
   "metadata": {},
   "outputs": [
    {
     "data": {
      "text/plain": [
       "6851"
      ]
     },
     "execution_count": 5,
     "metadata": {},
     "output_type": "execute_result"
    }
   ],
   "source": [
    "playlists = pd.concat([focus_playlists, workout_playlists, sleep_playlists, party_playlists])\n",
    "len(playlists)"
   ]
  },
  {
   "cell_type": "markdown",
   "metadata": {},
   "source": [
    "Now that we've concatenated our data into one big playlist, we have to check one very important detail; whether tracks show up in multiple different types of playlists"
   ]
  },
  {
   "cell_type": "code",
   "execution_count": 6,
   "metadata": {},
   "outputs": [
    {
     "data": {
      "text/plain": [
       "443"
      ]
     },
     "execution_count": 6,
     "metadata": {},
     "output_type": "execute_result"
    }
   ],
   "source": [
    "playlists[playlists.duplicated(subset=['name', 'artists'], keep=False)].name.nunique()"
   ]
  },
  {
   "cell_type": "markdown",
   "metadata": {},
   "source": [
    "First we query all songs in our playlist that are duplicated. Then using nunique we see that there are 443 songs that are repeated in at least one playlist. We have to decide what to do with these songs. \n",
    "\n",
    "It would be interesting to do some type of multilabel output classification. However, to do this I would need a more conclusive lists of tracks, since I can't verify which playlists a song belongs in without first getting a list of every track in each of the playlists present.\n",
    "\n",
    "To keep things simple, it might be better to discard these border cases, and revisit the idea of a multilabel output in a cloud setting instead, so that I have the memory to fit all of the data and run computations."
   ]
  },
  {
   "cell_type": "code",
   "execution_count": 7,
   "metadata": {},
   "outputs": [],
   "source": [
    "playlists.drop_duplicates(subset=['name', 'artists'], inplace=True, keep=False)"
   ]
  },
  {
   "cell_type": "code",
   "execution_count": 8,
   "metadata": {},
   "outputs": [],
   "source": [
    "assert not any(playlists.duplicated(subset=['name', 'artists'], keep=False))"
   ]
  },
  {
   "cell_type": "code",
   "execution_count": 23,
   "metadata": {},
   "outputs": [
    {
     "data": {
      "text/plain": [
       "5891"
      ]
     },
     "execution_count": 23,
     "metadata": {},
     "output_type": "execute_result"
    }
   ],
   "source": [
    "len(playlists)"
   ]
  },
  {
   "cell_type": "markdown",
   "metadata": {},
   "source": [
    "We've dropped about 1000 records from our dataset. The border cases may still be present for the reason i mentioned earlier; We can't be sure if a track is present in another playlist type without getting every track from every playlist of all present playlist. Keeping this in mind let's proceed to the next part of our analysis."
   ]
  },
  {
   "cell_type": "markdown",
   "metadata": {},
   "source": [
    "# Preliminary Data Exploration"
   ]
  },
  {
   "cell_type": "code",
   "execution_count": 10,
   "metadata": {},
   "outputs": [
    {
     "name": "stdout",
     "output_type": "stream",
     "text": [
      "<class 'pandas.core.frame.DataFrame'>\n",
      "Index: 5891 entries, 5z7sxlo3kf8eg8s3Zkb8dQ to 6lEAYlnuzxr0HHzdzXjBmx\n",
      "Data columns (total 19 columns):\n",
      "name                5891 non-null object\n",
      "artists             5891 non-null object\n",
      "album               5891 non-null object\n",
      "duration_ms         5891 non-null int64\n",
      "popularity          5891 non-null int64\n",
      "acousticness        5891 non-null float64\n",
      "danceability        5891 non-null float64\n",
      "energy              5891 non-null float64\n",
      "instrumentalness    5891 non-null float64\n",
      "key                 5891 non-null category\n",
      "liveness            5891 non-null float64\n",
      "loudness            5891 non-null float64\n",
      "mode                5891 non-null category\n",
      "speechiness         5891 non-null float64\n",
      "tempo               5891 non-null float64\n",
      "time_signature      5891 non-null int64\n",
      "valence             5891 non-null float64\n",
      "rating              5891 non-null category\n",
      "playlist_type       5891 non-null object\n",
      "dtypes: category(3), float64(9), int64(3), object(4)\n",
      "memory usage: 800.4+ KB\n"
     ]
    }
   ],
   "source": [
    "playlists.info()"
   ]
  },
  {
   "cell_type": "markdown",
   "metadata": {},
   "source": [
    "We see that we have 5891 entries, all non-null, and we have a good mix of categorical and numerical columns. We also see that our playlist_type column is of type object, let's make it of type category, since categorical variables take up less memory than string variables ( because of how pandas treats categorical vs object types)"
   ]
  },
  {
   "cell_type": "code",
   "execution_count": 11,
   "metadata": {},
   "outputs": [],
   "source": [
    "playlists['playlist_type'] = playlists['playlist_type'].astype('category')"
   ]
  },
  {
   "cell_type": "code",
   "execution_count": 12,
   "metadata": {},
   "outputs": [
    {
     "name": "stdout",
     "output_type": "stream",
     "text": [
      "<class 'pandas.core.frame.DataFrame'>\n",
      "Index: 5891 entries, 5z7sxlo3kf8eg8s3Zkb8dQ to 6lEAYlnuzxr0HHzdzXjBmx\n",
      "Data columns (total 19 columns):\n",
      "name                5891 non-null object\n",
      "artists             5891 non-null object\n",
      "album               5891 non-null object\n",
      "duration_ms         5891 non-null int64\n",
      "popularity          5891 non-null int64\n",
      "acousticness        5891 non-null float64\n",
      "danceability        5891 non-null float64\n",
      "energy              5891 non-null float64\n",
      "instrumentalness    5891 non-null float64\n",
      "key                 5891 non-null category\n",
      "liveness            5891 non-null float64\n",
      "loudness            5891 non-null float64\n",
      "mode                5891 non-null category\n",
      "speechiness         5891 non-null float64\n",
      "tempo               5891 non-null float64\n",
      "time_signature      5891 non-null int64\n",
      "valence             5891 non-null float64\n",
      "rating              5891 non-null category\n",
      "playlist_type       5891 non-null category\n",
      "dtypes: category(4), float64(9), int64(3), object(3)\n",
      "memory usage: 760.3+ KB\n"
     ]
    }
   ],
   "source": [
    "playlists.info()"
   ]
  },
  {
   "cell_type": "code",
   "execution_count": 14,
   "metadata": {},
   "outputs": [
    {
     "data": {
      "text/plain": [
       "focus      1933\n",
       "sleep      1519\n",
       "workout    1231\n",
       "party      1208\n",
       "Name: playlist_type, dtype: int64"
      ]
     },
     "execution_count": 14,
     "metadata": {},
     "output_type": "execute_result"
    }
   ],
   "source": [
    "playlists['playlist_type'].value_counts()"
   ]
  },
  {
   "cell_type": "code",
   "execution_count": 15,
   "metadata": {},
   "outputs": [
    {
     "data": {
      "image/png": "[encoded data removed]",
      "text/plain": [
       "<Figure size 432x288 with 12 Axes>"
      ]
     },
     "metadata": {
      "needs_background": "light"
     },
     "output_type": "display_data"
    }
   ],
   "source": [
    "playlists.hist()\n",
    "plt.show()"
   ]
  },
  {
   "cell_type": "markdown",
   "metadata": {},
   "source": [
    "A quick glance at the data tells us that some of the columns are skewed.So we may want to look into the possibilty of applying transformations to adjust our data."
   ]
  },
  {
   "cell_type": "code",
   "execution_count": 16,
   "metadata": {},
   "outputs": [
    {
     "data": {
      "text/html": [
       "<div>\n",
       "<style scoped>\n",
       "    .dataframe tbody tr th:only-of-type {\n",
       "        vertical-align: middle;\n",
       "    }\n",
       "\n",
       "    .dataframe tbody tr th {\n",
       "        vertical-align: top;\n",
       "    }\n",
       "\n",
       "    .dataframe thead th {\n",
       "        text-align: right;\n",
       "    }\n",
       "</style>\n",
       "<table border=\"1\" class=\"dataframe\">\n",
       "  <thead>\n",
       "    <tr style=\"text-align: right;\">\n",
       "      <th></th>\n",
       "      <th>duration_ms</th>\n",
       "      <th>popularity</th>\n",
       "      <th>acousticness</th>\n",
       "      <th>danceability</th>\n",
       "      <th>energy</th>\n",
       "      <th>instrumentalness</th>\n",
       "      <th>liveness</th>\n",
       "      <th>loudness</th>\n",
       "      <th>speechiness</th>\n",
       "      <th>tempo</th>\n",
       "      <th>time_signature</th>\n",
       "      <th>valence</th>\n",
       "    </tr>\n",
       "  </thead>\n",
       "  <tbody>\n",
       "    <tr>\n",
       "      <th>count</th>\n",
       "      <td>5891.000000</td>\n",
       "      <td>5891.000000</td>\n",
       "      <td>5891.000000</td>\n",
       "      <td>5891.000000</td>\n",
       "      <td>5891.000000</td>\n",
       "      <td>5891.000000</td>\n",
       "      <td>5891.000000</td>\n",
       "      <td>5891.000000</td>\n",
       "      <td>5891.000000</td>\n",
       "      <td>5891.000000</td>\n",
       "      <td>5891.000000</td>\n",
       "      <td>5891.000000</td>\n",
       "    </tr>\n",
       "    <tr>\n",
       "      <th>mean</th>\n",
       "      <td>207841.827024</td>\n",
       "      <td>50.619080</td>\n",
       "      <td>0.360794</td>\n",
       "      <td>0.571350</td>\n",
       "      <td>0.559457</td>\n",
       "      <td>0.325262</td>\n",
       "      <td>0.178202</td>\n",
       "      <td>-10.892709</td>\n",
       "      <td>0.083633</td>\n",
       "      <td>117.194928</td>\n",
       "      <td>3.847734</td>\n",
       "      <td>0.418406</td>\n",
       "    </tr>\n",
       "    <tr>\n",
       "      <th>std</th>\n",
       "      <td>64502.350202</td>\n",
       "      <td>20.024388</td>\n",
       "      <td>0.379825</td>\n",
       "      <td>0.196517</td>\n",
       "      <td>0.304980</td>\n",
       "      <td>0.407037</td>\n",
       "      <td>0.151285</td>\n",
       "      <td>8.739103</td>\n",
       "      <td>0.088766</td>\n",
       "      <td>32.554296</td>\n",
       "      <td>0.636525</td>\n",
       "      <td>0.264611</td>\n",
       "    </tr>\n",
       "    <tr>\n",
       "      <th>min</th>\n",
       "      <td>41290.000000</td>\n",
       "      <td>0.000000</td>\n",
       "      <td>0.000000</td>\n",
       "      <td>0.000000</td>\n",
       "      <td>0.000000</td>\n",
       "      <td>0.000000</td>\n",
       "      <td>0.000000</td>\n",
       "      <td>-58.555000</td>\n",
       "      <td>0.000000</td>\n",
       "      <td>0.000000</td>\n",
       "      <td>0.000000</td>\n",
       "      <td>0.000000</td>\n",
       "    </tr>\n",
       "    <tr>\n",
       "      <th>25%</th>\n",
       "      <td>169652.000000</td>\n",
       "      <td>43.000000</td>\n",
       "      <td>0.021950</td>\n",
       "      <td>0.456500</td>\n",
       "      <td>0.292500</td>\n",
       "      <td>0.000002</td>\n",
       "      <td>0.095700</td>\n",
       "      <td>-14.084000</td>\n",
       "      <td>0.037250</td>\n",
       "      <td>95.053000</td>\n",
       "      <td>4.000000</td>\n",
       "      <td>0.192000</td>\n",
       "    </tr>\n",
       "    <tr>\n",
       "      <th>50%</th>\n",
       "      <td>202105.000000</td>\n",
       "      <td>54.000000</td>\n",
       "      <td>0.175000</td>\n",
       "      <td>0.602000</td>\n",
       "      <td>0.629000</td>\n",
       "      <td>0.005060</td>\n",
       "      <td>0.116000</td>\n",
       "      <td>-7.591000</td>\n",
       "      <td>0.050000</td>\n",
       "      <td>120.018000</td>\n",
       "      <td>4.000000</td>\n",
       "      <td>0.392000</td>\n",
       "    </tr>\n",
       "    <tr>\n",
       "      <th>75%</th>\n",
       "      <td>236806.000000</td>\n",
       "      <td>64.000000</td>\n",
       "      <td>0.772500</td>\n",
       "      <td>0.714500</td>\n",
       "      <td>0.826000</td>\n",
       "      <td>0.845000</td>\n",
       "      <td>0.203000</td>\n",
       "      <td>-5.053000</td>\n",
       "      <td>0.085350</td>\n",
       "      <td>135.143500</td>\n",
       "      <td>4.000000</td>\n",
       "      <td>0.622000</td>\n",
       "    </tr>\n",
       "    <tr>\n",
       "      <th>max</th>\n",
       "      <td>719133.000000</td>\n",
       "      <td>97.000000</td>\n",
       "      <td>0.996000</td>\n",
       "      <td>0.983000</td>\n",
       "      <td>1.000000</td>\n",
       "      <td>1.000000</td>\n",
       "      <td>0.985000</td>\n",
       "      <td>0.101000</td>\n",
       "      <td>0.855000</td>\n",
       "      <td>218.418000</td>\n",
       "      <td>5.000000</td>\n",
       "      <td>0.991000</td>\n",
       "    </tr>\n",
       "  </tbody>\n",
       "</table>\n",
       "</div>"
      ],
      "text/plain": [
       "         duration_ms   popularity  acousticness  danceability       energy  \\\n",
       "count    5891.000000  5891.000000   5891.000000   5891.000000  5891.000000   \n",
       "mean   207841.827024    50.619080      0.360794      0.571350     0.559457   \n",
       "std     64502.350202    20.024388      0.379825      0.196517     0.304980   \n",
       "min     41290.000000     0.000000      0.000000      0.000000     0.000000   \n",
       "25%    169652.000000    43.000000      0.021950      0.456500     0.292500   \n",
       "50%    202105.000000    54.000000      0.175000      0.602000     0.629000   \n",
       "75%    236806.000000    64.000000      0.772500      0.714500     0.826000   \n",
       "max    719133.000000    97.000000      0.996000      0.983000     1.000000   \n",
       "\n",
       "       instrumentalness     liveness     loudness  speechiness        tempo  \\\n",
       "count       5891.000000  5891.000000  5891.000000  5891.000000  5891.000000   \n",
       "mean           0.325262     0.178202   -10.892709     0.083633   117.194928   \n",
       "std            0.407037     0.151285     8.739103     0.088766    32.554296   \n",
       "min            0.000000     0.000000   -58.555000     0.000000     0.000000   \n",
       "25%            0.000002     0.095700   -14.084000     0.037250    95.053000   \n",
       "50%            0.005060     0.116000    -7.591000     0.050000   120.018000   \n",
       "75%            0.845000     0.203000    -5.053000     0.085350   135.143500   \n",
       "max            1.000000     0.985000     0.101000     0.855000   218.418000   \n",
       "\n",
       "       time_signature      valence  \n",
       "count     5891.000000  5891.000000  \n",
       "mean         3.847734     0.418406  \n",
       "std          0.636525     0.264611  \n",
       "min          0.000000     0.000000  \n",
       "25%          4.000000     0.192000  \n",
       "50%          4.000000     0.392000  \n",
       "75%          4.000000     0.622000  \n",
       "max          5.000000     0.991000  "
      ]
     },
     "execution_count": 16,
     "metadata": {},
     "output_type": "execute_result"
    }
   ],
   "source": [
    "playlists.describe()"
   ]
  },
  {
   "cell_type": "markdown",
   "metadata": {},
   "source": [
    "We see that our numeric columns are on very different scales, so we will definitely have to normalize our columns. Especially if we are going to be using models such as KNN"
   ]
  },
  {
   "cell_type": "markdown",
   "metadata": {},
   "source": [
    "### So from our preliminary look at the data we learned a couple things:\n",
    "- We have a good amount of categorical columns, so we will have to perform some type of encoding to transform these categorical values into numerical ones before running our data through a model.\n",
    "- Each playlist type is well represented, but we have more examples of some than others.\n",
    "- We don't have null values since we removed them during our extraction and transformation of the data from the Spotify API.\n",
    "- Our numeric columns are on vastly different scales so we will have to normalize the data if we plan on using certain technique(techniques where the scale/variation of the data matters)\n",
    "- Some of our numeric columns are skewed so we can explore the possibility of applying transformations to standardize the model.\n",
    "- Since we concatenated the playlists, they are all in consecutive order. So we will have to shuffle the examples before splitting our set up into a test and training set."
   ]
  },
  {
   "cell_type": "markdown",
   "metadata": {},
   "source": [
    "# Create a Test Set"
   ]
  },
  {
   "cell_type": "markdown",
   "metadata": {},
   "source": [
    "To avoid data snooping, we will separate a test set before continuing our analysis. We will create a training and test csv file so that we don't have to reacquire the data from Spotify. We use Stratefied Shuffle Split to ensure that we have a good mix of each type of playlist in both the test and training set."
   ]
  },
  {
   "cell_type": "code",
   "execution_count": 17,
   "metadata": {},
   "outputs": [],
   "source": [
    "split = StratifiedShuffleSplit(n_splits=1, test_size=0.2)\n",
    "for train_index, test_index in split.split(playlists, playlists['playlist_type']):\n",
    "    train_set = playlists.iloc[train_index]\n",
    "    test_set = playlists.iloc[test_index]"
   ]
  },
  {
   "cell_type": "code",
   "execution_count": 18,
   "metadata": {},
   "outputs": [
    {
     "data": {
      "text/plain": [
       "focus      0.328128\n",
       "sleep      0.257851\n",
       "workout    0.208963\n",
       "party      0.205059\n",
       "Name: playlist_type, dtype: float64"
      ]
     },
     "execution_count": 18,
     "metadata": {},
     "output_type": "execute_result"
    }
   ],
   "source": [
    "playlists['playlist_type'].value_counts() / len(playlists)"
   ]
  },
  {
   "cell_type": "code",
   "execution_count": 19,
   "metadata": {},
   "outputs": [
    {
     "data": {
      "text/plain": [
       "focus      0.328098\n",
       "sleep      0.257852\n",
       "workout    0.209041\n",
       "party      0.205008\n",
       "Name: playlist_type, dtype: float64"
      ]
     },
     "execution_count": 19,
     "metadata": {},
     "output_type": "execute_result"
    }
   ],
   "source": [
    "train_set[\"playlist_type\"].value_counts() / len(train_set)"
   ]
  },
  {
   "cell_type": "code",
   "execution_count": 20,
   "metadata": {},
   "outputs": [
    {
     "data": {
      "text/plain": [
       "focus      0.328244\n",
       "sleep      0.257846\n",
       "workout    0.208651\n",
       "party      0.205259\n",
       "Name: playlist_type, dtype: float64"
      ]
     },
     "execution_count": 20,
     "metadata": {},
     "output_type": "execute_result"
    }
   ],
   "source": [
    "test_set[\"playlist_type\"].value_counts() / len(test_set)"
   ]
  },
  {
   "cell_type": "markdown",
   "metadata": {},
   "source": [
    "Using the Stratefied Shuffle Split strategy we were able to generate a training and test set with almost identical playlist_type category proportions as those in the full dataset. Now we can export these dataframes into separate .csv files before continuing our full analysis. "
   ]
  },
  {
   "cell_type": "code",
   "execution_count": 21,
   "metadata": {},
   "outputs": [],
   "source": [
    "train_set.to_csv('training_data.csv')"
   ]
  },
  {
   "cell_type": "code",
   "execution_count": 22,
   "metadata": {},
   "outputs": [],
   "source": [
    "test_set.to_csv('test_data.csv')"
   ]
  },
  {
   "cell_type": "markdown",
   "metadata": {},
   "source": [
    "We've successfully created our training and test set. We will do all of our exploration and develop our model using the training set, before finally trying it out on our test set."
   ]
  }
 ],
 "metadata": {
  "kernelspec": {
   "display_name": "Python 3",
   "language": "python",
   "name": "python3"
  },
  "language_info": {
   "codemirror_mode": {
    "name": "ipython",
    "version": 3
   },
   "file_extension": ".py",
   "mimetype": "text/x-python",
   "name": "python",
   "nbconvert_exporter": "python",
   "pygments_lexer": "ipython3",
   "version": "3.7.3"
  }
 },
 "nbformat": 4,
 "nbformat_minor": 2
}
