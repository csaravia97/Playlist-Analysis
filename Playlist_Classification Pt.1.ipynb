{
 "cells": [
  {
   "cell_type": "code",
   "execution_count": 35,
   "metadata": {},
   "outputs": [],
   "source": [
    "import Playlist_Class as PC\n",
    "import pandas as pd\n",
    "import matplotlib.pyplot as plt\n",
    "from sklearn.model_selection import StratifiedShuffleSplit"
   ]
  },
  {
   "cell_type": "code",
   "execution_count": 2,
   "metadata": {},
   "outputs": [
    {
     "name": "stdout",
     "output_type": "stream",
     "text": [
      "BARK BARK BARK >:(\n",
      "BARK BARK BARK >:(\n"
     ]
    }
   ],
   "source": [
    "focus_playlists = PC.SpotifyPlaylist('focus', 'US', 15).tracks\n",
    "workout_playlists = PC.SpotifyPlaylist('workout', 'US', 15).tracks\n",
    "sleep_playlists = PC.SpotifyPlaylist('mood', 'US', 15).tracks\n",
    "party_playlists = PC.SpotifyPlaylist('party', 'US', 15).tracks"
   ]
  },
  {
   "cell_type": "markdown",
   "metadata": {},
   "source": [
    "Before concatenating all of our playlists into one big dataframe, we have to make sure that we label each song with its corresponding playlist. These categories will be our target column for classification"
   ]
  },
  {
   "cell_type": "code",
   "execution_count": 3,
   "metadata": {},
   "outputs": [],
   "source": [
    "focus_playlists['playlist_type'] = ['focus']*len(focus_playlists)\n",
    "workout_playlists['playlist_type'] = ['workout']*len(workout_playlists)\n",
    "sleep_playlists['playlist_type'] = ['sleep']*len(sleep_playlists)\n",
    "party_playlists['playlist_type'] = ['party']*len(party_playlists)"
   ]
  },
  {
   "cell_type": "code",
   "execution_count": 4,
   "metadata": {},
   "outputs": [
    {
     "data": {
      "text/plain": [
       "4244"
      ]
     },
     "execution_count": 4,
     "metadata": {},
     "output_type": "execute_result"
    }
   ],
   "source": [
    "playlists = pd.concat([focus_playlists, workout_playlists, sleep_playlists, party_playlists])\n",
    "len(playlists)"
   ]
  },
  {
   "cell_type": "markdown",
   "metadata": {},
   "source": [
    "Now that we've concatenated our data into one big playlist, we have to check one very important detail; whether tracks show up in multiple different types of playlists"
   ]
  },
  {
   "cell_type": "code",
   "execution_count": 5,
   "metadata": {},
   "outputs": [
    {
     "data": {
      "text/plain": [
       "285"
      ]
     },
     "execution_count": 5,
     "metadata": {},
     "output_type": "execute_result"
    }
   ],
   "source": [
    "playlists[playlists.duplicated(subset=['name', 'artists'], keep=False)].name.nunique()"
   ]
  },
  {
   "cell_type": "markdown",
   "metadata": {},
   "source": [
    "First we query all songs in our playlist that are duplicated. Then using nunique we see that there are 284 songs that are repeated in at least one playlist. We have to decide what to do with these songs. \n",
    "\n",
    "It would be interesting to do some type of multilabel output classification. However, to do this I would need a more conclusive lists of tracks, since I can't verify which playlists a song belongs in without first getting a list of every track in each of the playlists present.\n",
    "\n",
    "To keep things simple, it might be better to discard these border cases, and revisit the idea of a multilabel output in a cloud setting instead, so that I have the memory to fit all of the data and run computations."
   ]
  },
  {
   "cell_type": "code",
   "execution_count": 6,
   "metadata": {},
   "outputs": [],
   "source": [
    "playlists.drop_duplicates(subset=['name', 'artists'], inplace=True, keep=False)"
   ]
  },
  {
   "cell_type": "code",
   "execution_count": 7,
   "metadata": {},
   "outputs": [],
   "source": [
    "assert not any(playlists.duplicated(subset=['name', 'artists'], keep=False))"
   ]
  },
  {
   "cell_type": "code",
   "execution_count": 8,
   "metadata": {},
   "outputs": [
    {
     "data": {
      "text/plain": [
       "3626"
      ]
     },
     "execution_count": 8,
     "metadata": {},
     "output_type": "execute_result"
    }
   ],
   "source": [
    "len(playlists)"
   ]
  },
  {
   "cell_type": "markdown",
   "metadata": {},
   "source": [
    "We've dropped about 600 records from our dataset. The border cases may still be present for the reason i mentioned earlier; We can't be sure if a track is present in another playlist type without getting every track from every playlist of all present playlist. Keeping this in mind let's proceed to the next part of our analysis."
   ]
  },
  {
   "cell_type": "markdown",
   "metadata": {},
   "source": [
    "# Preliminary Data Exploration"
   ]
  },
  {
   "cell_type": "code",
   "execution_count": 11,
   "metadata": {},
   "outputs": [
    {
     "name": "stdout",
     "output_type": "stream",
     "text": [
      "<class 'pandas.core.frame.DataFrame'>\n",
      "Index: 3626 entries, 5z7sxlo3kf8eg8s3Zkb8dQ to 6lEAYlnuzxr0HHzdzXjBmx\n",
      "Data columns (total 19 columns):\n",
      "name                3626 non-null object\n",
      "artists             3626 non-null object\n",
      "album               3626 non-null object\n",
      "duration_ms         3626 non-null int64\n",
      "popularity          3626 non-null int64\n",
      "acousticness        3626 non-null float64\n",
      "danceability        3626 non-null float64\n",
      "energy              3626 non-null float64\n",
      "instrumentalness    3626 non-null float64\n",
      "key                 3626 non-null category\n",
      "liveness            3626 non-null float64\n",
      "loudness            3626 non-null float64\n",
      "mode                3626 non-null category\n",
      "speechiness         3626 non-null float64\n",
      "tempo               3626 non-null float64\n",
      "time_signature      3626 non-null int64\n",
      "valence             3626 non-null float64\n",
      "rating              3626 non-null category\n",
      "playlist_type       3626 non-null object\n",
      "dtypes: category(3), float64(9), int64(3), object(4)\n",
      "memory usage: 492.9+ KB\n"
     ]
    }
   ],
   "source": [
    "playlists.info()"
   ]
  },
  {
   "cell_type": "markdown",
   "metadata": {},
   "source": [
    "We see that we have 3626 entries, all non-null, and we have a good mix of categorical and numerical columns. We also see that our playlist_type column is of type object, let's make it of type category, since categorical variables take up less memory than string variables ( because of how pandas treats categorical vs object types)"
   ]
  },
  {
   "cell_type": "code",
   "execution_count": 12,
   "metadata": {},
   "outputs": [],
   "source": [
    "playlists['playlist_type'] = playlists['playlist_type'].astype('category')"
   ]
  },
  {
   "cell_type": "code",
   "execution_count": 14,
   "metadata": {},
   "outputs": [
    {
     "name": "stdout",
     "output_type": "stream",
     "text": [
      "<class 'pandas.core.frame.DataFrame'>\n",
      "Index: 3626 entries, 5z7sxlo3kf8eg8s3Zkb8dQ to 6lEAYlnuzxr0HHzdzXjBmx\n",
      "Data columns (total 19 columns):\n",
      "name                3626 non-null object\n",
      "artists             3626 non-null object\n",
      "album               3626 non-null object\n",
      "duration_ms         3626 non-null int64\n",
      "popularity          3626 non-null int64\n",
      "acousticness        3626 non-null float64\n",
      "danceability        3626 non-null float64\n",
      "energy              3626 non-null float64\n",
      "instrumentalness    3626 non-null float64\n",
      "key                 3626 non-null category\n",
      "liveness            3626 non-null float64\n",
      "loudness            3626 non-null float64\n",
      "mode                3626 non-null category\n",
      "speechiness         3626 non-null float64\n",
      "tempo               3626 non-null float64\n",
      "time_signature      3626 non-null int64\n",
      "valence             3626 non-null float64\n",
      "rating              3626 non-null category\n",
      "playlist_type       3626 non-null category\n",
      "dtypes: category(4), float64(9), int64(3), object(3)\n",
      "memory usage: 468.3+ KB\n"
     ]
    }
   ],
   "source": [
    "playlists.info()"
   ]
  },
  {
   "cell_type": "code",
   "execution_count": 29,
   "metadata": {},
   "outputs": [
    {
     "data": {
      "text/plain": [
       "focus      1265\n",
       "sleep       871\n",
       "workout     789\n",
       "party       701\n",
       "Name: playlist_type, dtype: int64"
      ]
     },
     "execution_count": 29,
     "metadata": {},
     "output_type": "execute_result"
    }
   ],
   "source": [
    "playlists['playlist_type'].value_counts()"
   ]
  },
  {
   "cell_type": "code",
   "execution_count": 30,
   "metadata": {},
   "outputs": [
    {
     "data": {
      "image/png": "[encoded data removed]",
      "text/plain": [
       "<Figure size 432x288 with 12 Axes>"
      ]
     },
     "metadata": {
      "needs_background": "light"
     },
     "output_type": "display_data"
    }
   ],
   "source": [
    "playlists.hist()\n",
    "plt.show()"
   ]
  },
  {
   "cell_type": "markdown",
   "metadata": {},
   "source": [
    "A quick glance at the data tells us that some of the columns are skewed.So we may want to look into the possibilty of applying transformations to adjust our data."
   ]
  },
  {
   "cell_type": "code",
   "execution_count": 28,
   "metadata": {},
   "outputs": [
    {
     "data": {
      "text/html": [
       "<div>\n",
       "<style scoped>\n",
       "    .dataframe tbody tr th:only-of-type {\n",
       "        vertical-align: middle;\n",
       "    }\n",
       "\n",
       "    .dataframe tbody tr th {\n",
       "        vertical-align: top;\n",
       "    }\n",
       "\n",
       "    .dataframe thead th {\n",
       "        text-align: right;\n",
       "    }\n",
       "</style>\n",
       "<table border=\"1\" class=\"dataframe\">\n",
       "  <thead>\n",
       "    <tr style=\"text-align: right;\">\n",
       "      <th></th>\n",
       "      <th>duration_ms</th>\n",
       "      <th>popularity</th>\n",
       "      <th>acousticness</th>\n",
       "      <th>danceability</th>\n",
       "      <th>energy</th>\n",
       "      <th>instrumentalness</th>\n",
       "      <th>liveness</th>\n",
       "      <th>loudness</th>\n",
       "      <th>speechiness</th>\n",
       "      <th>tempo</th>\n",
       "      <th>time_signature</th>\n",
       "      <th>valence</th>\n",
       "    </tr>\n",
       "  </thead>\n",
       "  <tbody>\n",
       "    <tr>\n",
       "      <th>count</th>\n",
       "      <td>3626.000000</td>\n",
       "      <td>3626.000000</td>\n",
       "      <td>3626.000000</td>\n",
       "      <td>3626.000000</td>\n",
       "      <td>3626.000000</td>\n",
       "      <td>3626.000000</td>\n",
       "      <td>3626.000000</td>\n",
       "      <td>3626.000000</td>\n",
       "      <td>3626.000000</td>\n",
       "      <td>3626.000000</td>\n",
       "      <td>3626.000000</td>\n",
       "      <td>3626.000000</td>\n",
       "    </tr>\n",
       "    <tr>\n",
       "      <th>mean</th>\n",
       "      <td>195401.238279</td>\n",
       "      <td>54.498897</td>\n",
       "      <td>0.395132</td>\n",
       "      <td>0.578668</td>\n",
       "      <td>0.521636</td>\n",
       "      <td>0.330567</td>\n",
       "      <td>0.175147</td>\n",
       "      <td>-11.420158</td>\n",
       "      <td>0.091953</td>\n",
       "      <td>115.776044</td>\n",
       "      <td>3.813293</td>\n",
       "      <td>0.417518</td>\n",
       "    </tr>\n",
       "    <tr>\n",
       "      <th>std</th>\n",
       "      <td>56412.652563</td>\n",
       "      <td>18.827745</td>\n",
       "      <td>0.385037</td>\n",
       "      <td>0.199972</td>\n",
       "      <td>0.304854</td>\n",
       "      <td>0.413491</td>\n",
       "      <td>0.147644</td>\n",
       "      <td>9.342298</td>\n",
       "      <td>0.097581</td>\n",
       "      <td>35.250106</td>\n",
       "      <td>0.730158</td>\n",
       "      <td>0.265401</td>\n",
       "    </tr>\n",
       "    <tr>\n",
       "      <th>min</th>\n",
       "      <td>42000.000000</td>\n",
       "      <td>0.000000</td>\n",
       "      <td>0.000000</td>\n",
       "      <td>0.000000</td>\n",
       "      <td>0.000000</td>\n",
       "      <td>0.000000</td>\n",
       "      <td>0.000000</td>\n",
       "      <td>-58.555000</td>\n",
       "      <td>0.000000</td>\n",
       "      <td>0.000000</td>\n",
       "      <td>0.000000</td>\n",
       "      <td>0.000000</td>\n",
       "    </tr>\n",
       "    <tr>\n",
       "      <th>25%</th>\n",
       "      <td>159433.500000</td>\n",
       "      <td>49.000000</td>\n",
       "      <td>0.039325</td>\n",
       "      <td>0.468000</td>\n",
       "      <td>0.238250</td>\n",
       "      <td>0.000001</td>\n",
       "      <td>0.097100</td>\n",
       "      <td>-15.224000</td>\n",
       "      <td>0.038000</td>\n",
       "      <td>92.259500</td>\n",
       "      <td>4.000000</td>\n",
       "      <td>0.193000</td>\n",
       "    </tr>\n",
       "    <tr>\n",
       "      <th>50%</th>\n",
       "      <td>193644.500000</td>\n",
       "      <td>57.000000</td>\n",
       "      <td>0.227000</td>\n",
       "      <td>0.617000</td>\n",
       "      <td>0.574000</td>\n",
       "      <td>0.002805</td>\n",
       "      <td>0.114000</td>\n",
       "      <td>-7.891000</td>\n",
       "      <td>0.051900</td>\n",
       "      <td>118.024000</td>\n",
       "      <td>4.000000</td>\n",
       "      <td>0.385000</td>\n",
       "    </tr>\n",
       "    <tr>\n",
       "      <th>75%</th>\n",
       "      <td>226898.000000</td>\n",
       "      <td>66.000000</td>\n",
       "      <td>0.842000</td>\n",
       "      <td>0.723000</td>\n",
       "      <td>0.788000</td>\n",
       "      <td>0.857000</td>\n",
       "      <td>0.194000</td>\n",
       "      <td>-5.139250</td>\n",
       "      <td>0.098900</td>\n",
       "      <td>138.073500</td>\n",
       "      <td>4.000000</td>\n",
       "      <td>0.619750</td>\n",
       "    </tr>\n",
       "    <tr>\n",
       "      <th>max</th>\n",
       "      <td>678013.000000</td>\n",
       "      <td>97.000000</td>\n",
       "      <td>0.996000</td>\n",
       "      <td>0.980000</td>\n",
       "      <td>1.000000</td>\n",
       "      <td>1.000000</td>\n",
       "      <td>0.977000</td>\n",
       "      <td>0.101000</td>\n",
       "      <td>0.855000</td>\n",
       "      <td>218.418000</td>\n",
       "      <td>5.000000</td>\n",
       "      <td>0.979000</td>\n",
       "    </tr>\n",
       "  </tbody>\n",
       "</table>\n",
       "</div>"
      ],
      "text/plain": [
       "         duration_ms   popularity  acousticness  danceability       energy  \\\n",
       "count    3626.000000  3626.000000   3626.000000   3626.000000  3626.000000   \n",
       "mean   195401.238279    54.498897      0.395132      0.578668     0.521636   \n",
       "std     56412.652563    18.827745      0.385037      0.199972     0.304854   \n",
       "min     42000.000000     0.000000      0.000000      0.000000     0.000000   \n",
       "25%    159433.500000    49.000000      0.039325      0.468000     0.238250   \n",
       "50%    193644.500000    57.000000      0.227000      0.617000     0.574000   \n",
       "75%    226898.000000    66.000000      0.842000      0.723000     0.788000   \n",
       "max    678013.000000    97.000000      0.996000      0.980000     1.000000   \n",
       "\n",
       "       instrumentalness     liveness     loudness  speechiness        tempo  \\\n",
       "count       3626.000000  3626.000000  3626.000000  3626.000000  3626.000000   \n",
       "mean           0.330567     0.175147   -11.420158     0.091953   115.776044   \n",
       "std            0.413491     0.147644     9.342298     0.097581    35.250106   \n",
       "min            0.000000     0.000000   -58.555000     0.000000     0.000000   \n",
       "25%            0.000001     0.097100   -15.224000     0.038000    92.259500   \n",
       "50%            0.002805     0.114000    -7.891000     0.051900   118.024000   \n",
       "75%            0.857000     0.194000    -5.139250     0.098900   138.073500   \n",
       "max            1.000000     0.977000     0.101000     0.855000   218.418000   \n",
       "\n",
       "       time_signature      valence  \n",
       "count     3626.000000  3626.000000  \n",
       "mean         3.813293     0.417518  \n",
       "std          0.730158     0.265401  \n",
       "min          0.000000     0.000000  \n",
       "25%          4.000000     0.193000  \n",
       "50%          4.000000     0.385000  \n",
       "75%          4.000000     0.619750  \n",
       "max          5.000000     0.979000  "
      ]
     },
     "execution_count": 28,
     "metadata": {},
     "output_type": "execute_result"
    }
   ],
   "source": [
    "playlists.describe()"
   ]
  },
  {
   "cell_type": "markdown",
   "metadata": {},
   "source": [
    "We see that our numeric columns are on very different scales, so we will definitely have to normalize our columns. Especially if we are going to be using models such as KNN"
   ]
  },
  {
   "cell_type": "markdown",
   "metadata": {},
   "source": [
    "### So from our preliminary look at the data we learned a couple things:\n",
    "- We have a good amount of categorical columns, so we will have to perform some type of encoding to transform these categorical values into numerical ones before running our data through a model.\n",
    "- Each playlist type is well represented, but we have more examples of some than others.\n",
    "- We don't have null values since we removed them during our extraction and transformation of the data from the Spotify API.\n",
    "- Our numeric columns are on vastly different scales so we will have to normalize the data if we plan on using certain technique(techniques where the scale/variation of the data matters)\n",
    "- Some of our numeric columns are skewed so we can explore the possibility of applying transformations to standardize the model.\n",
    "- Since we concatenated the playlists, they are all in consecutive order. So we will have to shuffle the examples before splitting our set up into a test and training set."
   ]
  },
  {
   "cell_type": "markdown",
   "metadata": {},
   "source": [
    "# Create a Test Set"
   ]
  },
  {
   "cell_type": "markdown",
   "metadata": {},
   "source": [
    "To avoid data snooping, we will separate a test set before continuing our analysis. We will create a training and test csv file so that we don't have to reacquire the data from Spotify. We use Stratefied Shuffle Split to ensure that we have a good mix of each type of playlist in both the test and training set."
   ]
  },
  {
   "cell_type": "code",
   "execution_count": null,
   "metadata": {},
   "outputs": [],
   "source": [
    "split = StratifiedShuffleSplit(n_splits=1, test_size=0.2)\n",
    "for train_index, test_index in split.split(playlists, playlists['playlist_type']):\n",
    "    train_set = playlists.iloc[train_index]\n",
    "    test_set = playlists.iloc[test_index]"
   ]
  },
  {
   "cell_type": "code",
   "execution_count": 56,
   "metadata": {},
   "outputs": [
    {
     "data": {
      "text/plain": [
       "focus      0.348869\n",
       "sleep      0.240210\n",
       "workout    0.217595\n",
       "party      0.193326\n",
       "Name: playlist_type, dtype: float64"
      ]
     },
     "execution_count": 56,
     "metadata": {},
     "output_type": "execute_result"
    }
   ],
   "source": [
    "playlists['playlist_type'].value_counts() / len(playlists)"
   ]
  },
  {
   "cell_type": "code",
   "execution_count": 53,
   "metadata": {},
   "outputs": [
    {
     "data": {
      "text/plain": [
       "focus      0.348966\n",
       "sleep      0.240000\n",
       "workout    0.217586\n",
       "party      0.193448\n",
       "Name: playlist_type, dtype: float64"
      ]
     },
     "execution_count": 53,
     "metadata": {},
     "output_type": "execute_result"
    }
   ],
   "source": [
    "train_set[\"playlist_type\"].value_counts() / len(train_set)"
   ]
  },
  {
   "cell_type": "code",
   "execution_count": 55,
   "metadata": {},
   "outputs": [
    {
     "data": {
      "text/plain": [
       "focus      0.348485\n",
       "sleep      0.241047\n",
       "workout    0.217631\n",
       "party      0.192837\n",
       "Name: playlist_type, dtype: float64"
      ]
     },
     "execution_count": 55,
     "metadata": {},
     "output_type": "execute_result"
    }
   ],
   "source": [
    "test_set[\"playlist_type\"].value_counts() / len(test_set)"
   ]
  },
  {
   "cell_type": "markdown",
   "metadata": {},
   "source": [
    "Using the Stratefied Shuffle Split strategy we were able to generate a training and test set with almost identical playlist_type category proportions as those in the full dataset. Now we can export these dataframes into separate .csv files before continuing our full analysis. "
   ]
  },
  {
   "cell_type": "code",
   "execution_count": 61,
   "metadata": {},
   "outputs": [],
   "source": [
    "train_set.to_csv('training_data.csv')"
   ]
  },
  {
   "cell_type": "code",
   "execution_count": 62,
   "metadata": {},
   "outputs": [],
   "source": [
    "test_set.to_csv('test_data.csv')"
   ]
  },
  {
   "cell_type": "markdown",
   "metadata": {},
   "source": [
    "We've successfully created our training and test set. We will do all of our exploration and develop our model using the training set, before finally trying it out on our test set."
   ]
  }
 ],
 "metadata": {
  "kernelspec": {
   "display_name": "Python 3",
   "language": "python",
   "name": "python3"
  },
  "language_info": {
   "codemirror_mode": {
    "name": "ipython",
    "version": 3
   },
   "file_extension": ".py",
   "mimetype": "text/x-python",
   "name": "python",
   "nbconvert_exporter": "python",
   "pygments_lexer": "ipython3",
   "version": "3.7.3"
  }
 },
 "nbformat": 4,
 "nbformat_minor": 2
}
